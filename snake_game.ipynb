{
  "nbformat": 4,
  "nbformat_minor": 0,
  "metadata": {
    "colab": {
      "name": "Untitled0.ipynb",
      "provenance": [],
      "authorship_tag": "ABX9TyNdEAH+9DYbTkQSMhBmd9Y+"
    },
    "kernelspec": {
      "name": "python3",
      "display_name": "Python 3"
    }
  },
  "cells": [
    {
      "cell_type": "code",
      "metadata": {
        "id": "fATMBiM-P8Ec"
      },
      "source": [
        "from turtle import *\n",
        "from random import randrange\n",
        "from tkinter import *\n",
        "from freegames import square, vector\n",
        "food = vector(0, 0)\n",
        "snake = [vector(10, 0)]\n",
        "aim = vector(0, -10)\n",
        "\n",
        "def change(x, y):\n",
        "    aim.x = x\n",
        "    aim.y = y\n",
        "\n",
        "def inside(head):\n",
        "    return -200 < head.x < 190 and -200 < head.y < 190\n",
        "\n",
        "def move():\n",
        "    head = snake[-1].copy()\n",
        "    head.move(aim)\n",
        "\n",
        "    if not inside(head) or head in snake:\n",
        "        square(head.x, head.y, 9, 'red')\n",
        "        update()\n",
        "        return\n",
        "\n",
        "    snake.append(head)\n",
        "\n",
        "    if head == food:\n",
        "        print('Snake:', len(snake))\n",
        "        food.x = randrange(-15, 15) * 10\n",
        "        food.y = randrange(-15, 15) * 10\n",
        "    else:\n",
        "        snake.pop(0)\n",
        "\n",
        "    clear()\n",
        "\n",
        "    for body in snake:\n",
        "        square(body.x, body.y, 9, 'green')\n",
        "\n",
        "    square(food.x, food.y, 9, 'red')\n",
        "    update()\n",
        "    ontimer(move, 100)\n",
        "\n",
        "\n",
        "hideturtle()\n",
        "tracer(False)\n",
        "listen()\n",
        "onkey(lambda: change(10, 0), 'Right')\n",
        "onkey(lambda: change(-10, 0), 'Left')\n",
        "onkey(lambda: change(0, 10), 'Up')\n",
        "onkey(lambda: change(0, -10), 'Down')\n",
        "move()\n",
        "done()"
      ],
      "execution_count": null,
      "outputs": []
    }
  ]
}